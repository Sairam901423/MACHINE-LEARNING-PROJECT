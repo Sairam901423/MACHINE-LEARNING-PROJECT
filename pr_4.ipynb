{
  "nbformat": 4,
  "nbformat_minor": 0,
  "metadata": {
    "colab": {
      "provenance": [],
      "authorship_tag": "ABX9TyNYstDzQ4wC6bKXBQGyu9cs",
      "include_colab_link": true
    },
    "kernelspec": {
      "name": "python3",
      "display_name": "Python 3"
    },
    "language_info": {
      "name": "python"
    }
  },
  "cells": [
    {
      "cell_type": "markdown",
      "metadata": {
        "id": "view-in-github",
        "colab_type": "text"
      },
      "source": [
        "<a href=\"https://colab.research.google.com/github/Sairam901423/MACHINE-LEARNING-PROJECT/blob/main/pr_4.ipynb\" target=\"_parent\"><img src=\"https://colab.research.google.com/assets/colab-badge.svg\" alt=\"Open In Colab\"/></a>"
      ]
    },
    {
      "cell_type": "code",
      "execution_count": null,
      "metadata": {
        "colab": {
          "base_uri": "https://localhost:8080/"
        },
        "id": "iZwsWi3rEGzn",
        "outputId": "0db74f67-8ef1-4ec1-8a8f-3e8223181c2c"
      },
      "outputs": [
        {
          "output_type": "stream",
          "name": "stdout",
          "text": [
            "Initial Dataset:\n",
            " Roll_No     Name          ERP  PR  IMP  DLNLP\n",
            "       1  Sai ram 210304124049  95   90     98\n",
            "       2     Gopi 210304124079  90   85     76\n",
            "       3     Anil 210304124078  78   82     85\n",
            "       4 Harinath 210304124057  92   89     90\n",
            "       5  Susheel 210304124096  88   84     80\n",
            "\n",
            "Processed Dataset with Total and Average:\n",
            " Roll_No     Name          ERP  PR  IMP  DLNLP  Total   Average\n",
            "       1  Sai ram 210304124049  95   90     98    283 94.333333\n",
            "       2     Gopi 210304124079  90   85     76    251 83.666667\n",
            "       3     Anil 210304124078  78   82     85    245 81.666667\n",
            "       4 Harinath 210304124057  92   89     90    271 90.333333\n",
            "       5  Susheel 210304124096  88   84     80    252 84.000000\n"
          ]
        }
      ],
      "source": [
        "import numpy as np\n",
        "import pandas as pd\n",
        "from sklearn.preprocessing import StandardScaler, PolynomialFeatures\n",
        "# Example dataset of student marks in different subjects with additional details\n",
        "data = {\n",
        "    'Roll_No': [1, 2, 3, 4, 5],\n",
        "    'Name': ['Sai ram', 'Gopi', 'Anil', 'Harinath', 'Susheel'],\n",
        "    'ERP': [210304124049, 210304124079, 210304124078, 210304124057, 210304124096],\n",
        "    'PR': [95, 90, 78, 92, 88],\n",
        "    'IMP': [90, 85, 82, 89, 84],\n",
        "    'DLNLP': [98, 76, 85, 90, 80]\n",
        "}\n",
        "# Create DataFrame\n",
        "df = pd.DataFrame(data)\n",
        "# Display the initial dataset\n",
        "print(\"Initial Dataset:\")\n",
        "print(df.to_string(index=False))\n",
        "# Calculate Total and Average\n",
        "df['Total'] = df[['PR', 'IMP', 'DLNLP']].sum(axis=1)\n",
        "df['Average'] = df[['PR', 'IMP', 'DLNLP']].mean(axis=1)\n",
        "# Select specific columns to display\n",
        "selected_columns = df[['Roll_No', 'Name', 'ERP', 'PR', 'IMP', 'DLNLP', 'Total', 'Average']]\n",
        "# Display the processed dataset\n",
        "print(\"\\nProcessed Dataset with Total and Average:\")\n",
        "print(selected_columns.to_string(index=False))\n"
      ]
    }
  ]
}